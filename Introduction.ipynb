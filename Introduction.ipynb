{
 "cells": [
  {
   "cell_type": "code",
   "execution_count": 15,
   "metadata": {},
   "outputs": [],
   "source": [
    "#ROS interferes with openv so remove it from the path\n",
    "import sys\n",
    "#sys.path.remove('/opt/ros/kinetic/lib/python2.7/dist-packages')"
   ]
  },
  {
   "cell_type": "code",
   "execution_count": 5,
   "metadata": {},
   "outputs": [],
   "source": [
    "import cv2"
   ]
  },
  {
   "cell_type": "code",
   "execution_count": 14,
   "metadata": {},
   "outputs": [
    {
     "name": "stdout",
     "output_type": "stream",
     "text": [
      "(960, 1280, 3)\n"
     ]
    }
   ],
   "source": [
    "image=cv2.imread('PHOTO-2019-06-19-21-53-50.jpg')\n",
    "print(image.shape)\n",
    "cv2.imshow(\"Image\",image)\n",
    "cv2.waitKey(0)\n",
    "cv2.destroyAllWindows()"
   ]
  },
  {
   "cell_type": "markdown",
   "metadata": {},
   "source": [
    "To access individual pixels from numpy array"
   ]
  },
  {
   "cell_type": "code",
   "execution_count": 16,
   "metadata": {},
   "outputs": [],
   "source": [
    "(b, g, r) = image[20, 100] # accesses pixel at x=100, y=20\n",
    "(b, g, r) = image[75, 25] # accesses pixel at x=25, y=75\n",
    "(b, g, r) = image[90, 85] # accesses pixel at x=85, y=90"
   ]
  },
  {
   "cell_type": "markdown",
   "metadata": {},
   "source": [
    "It's important to note that openCV not only stores height and width in reverse order but they also have the rgb values in the reverse order. Why thought because of historical reasons. \n",
    "\n",
    "Aspect ratio is another thing to consider what do you do if you're classifier has an input size of 224 x 224 and the image you have is 800x 600\n",
    "\n",
    "\n",
    "Which method is best? In short, it depends. For some datasets you can simply ignore the\n",
    "aspect ratio and squish, distort, and compress your images prior to feeding them through your\n",
    "network. On other datasets, it’s advantageous to preprocess them further by resizing along the\n",
    "shortest dimension and then cropping the center."
   ]
  },
  {
   "cell_type": "code",
   "execution_count": null,
   "metadata": {},
   "outputs": [],
   "source": []
  }
 ],
 "metadata": {
  "kernelspec": {
   "display_name": "Python 3",
   "language": "python",
   "name": "python3"
  },
  "language_info": {
   "codemirror_mode": {
    "name": "ipython",
    "version": 3
   },
   "file_extension": ".py",
   "mimetype": "text/x-python",
   "name": "python",
   "nbconvert_exporter": "python",
   "pygments_lexer": "ipython3",
   "version": "3.6.8"
  }
 },
 "nbformat": 4,
 "nbformat_minor": 2
}
